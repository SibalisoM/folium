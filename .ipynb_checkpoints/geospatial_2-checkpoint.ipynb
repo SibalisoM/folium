{
 "cells": [
  {
   "cell_type": "code",
   "execution_count": 1,
   "id": "b5f8df39-581a-42b4-ab85-758304ca68f8",
   "metadata": {},
   "outputs": [],
   "source": [
    "import folium\n",
    "import pandas as pd\n",
    "from geopy.geocoders import ArcGIS"
   ]
  },
  {
   "cell_type": "code",
   "execution_count": 2,
   "id": "de312e3a-9387-4fba-b032-a02afb0803a7",
   "metadata": {
    "tags": []
   },
   "outputs": [
    {
     "data": {
      "text/html": [
       "<div>\n",
       "<style scoped>\n",
       "    .dataframe tbody tr th:only-of-type {\n",
       "        vertical-align: middle;\n",
       "    }\n",
       "\n",
       "    .dataframe tbody tr th {\n",
       "        vertical-align: top;\n",
       "    }\n",
       "\n",
       "    .dataframe thead th {\n",
       "        text-align: right;\n",
       "    }\n",
       "</style>\n",
       "<table border=\"1\" class=\"dataframe\">\n",
       "  <thead>\n",
       "    <tr style=\"text-align: right;\">\n",
       "      <th></th>\n",
       "      <th>Store</th>\n",
       "      <th>Location</th>\n",
       "    </tr>\n",
       "  </thead>\n",
       "  <tbody>\n",
       "    <tr>\n",
       "      <th>0</th>\n",
       "      <td>McDonald's Pinelands Drive-Thru</td>\n",
       "      <td>Howard Centre, Forest Dr Service Rd, Pinelands...</td>\n",
       "    </tr>\n",
       "    <tr>\n",
       "      <th>1</th>\n",
       "      <td>McDonald's Strand Street</td>\n",
       "      <td>Cape Town City Centre Cnr Strand Street &amp;, 24A...</td>\n",
       "    </tr>\n",
       "    <tr>\n",
       "      <th>2</th>\n",
       "      <td>McDonald's Maitland Drive-Thru</td>\n",
       "      <td>199 Voortrekker Rd, Maitland, Cape Town, 7405</td>\n",
       "    </tr>\n",
       "    <tr>\n",
       "      <th>3</th>\n",
       "      <td>McDonald's Milnerton Drive-Thru</td>\n",
       "      <td>Cnr Koeberg &amp;, Bosmansdam Rd, Milnerton, Cape ...</td>\n",
       "    </tr>\n",
       "    <tr>\n",
       "      <th>4</th>\n",
       "      <td>McDonald's Long Street</td>\n",
       "      <td>Kloof St, Gardens, Cape Town, 800,  021 422 1371</td>\n",
       "    </tr>\n",
       "    <tr>\n",
       "      <th>5</th>\n",
       "      <td>McDonald's Rondebosch</td>\n",
       "      <td>51 Main Rd, Rondebosch, Cape Town, 7700,  0860...</td>\n",
       "    </tr>\n",
       "    <tr>\n",
       "      <th>6</th>\n",
       "      <td>McDonald's Canal Walk</td>\n",
       "      <td>Canal Walk Shopping Centre, Century Blvd, Cent...</td>\n",
       "    </tr>\n",
       "    <tr>\n",
       "      <th>7</th>\n",
       "      <td>McDonald's Vangate Drive-Thru</td>\n",
       "      <td>Vangate Mall Cnr M7 &amp;, Heideveld Rd, Athlone,...</td>\n",
       "    </tr>\n",
       "    <tr>\n",
       "      <th>8</th>\n",
       "      <td>McDonald's Claremont</td>\n",
       "      <td>171&amp;nbsp, Main Rd, Claremont, Cape Town, 7708</td>\n",
       "    </tr>\n",
       "    <tr>\n",
       "      <th>9</th>\n",
       "      <td>McDonald's Seapoint Drive-Thru</td>\n",
       "      <td>Cnr Main Road &amp;, The Glen, Sea Point, Cape To...</td>\n",
       "    </tr>\n",
       "    <tr>\n",
       "      <th>10</th>\n",
       "      <td>McDonald’s Spin Street</td>\n",
       "      <td>Cape Town City Centre Cnr Parliament Street &amp;,...</td>\n",
       "    </tr>\n",
       "  </tbody>\n",
       "</table>\n",
       "</div>"
      ],
      "text/plain": [
       "                              Store  \\\n",
       "0   McDonald's Pinelands Drive-Thru   \n",
       "1          McDonald's Strand Street   \n",
       "2    McDonald's Maitland Drive-Thru   \n",
       "3   McDonald's Milnerton Drive-Thru   \n",
       "4            McDonald's Long Street   \n",
       "5             McDonald's Rondebosch   \n",
       "6             McDonald's Canal Walk   \n",
       "7     McDonald's Vangate Drive-Thru   \n",
       "8              McDonald's Claremont   \n",
       "9    McDonald's Seapoint Drive-Thru   \n",
       "10           McDonald’s Spin Street   \n",
       "\n",
       "                                             Location  \n",
       "0   Howard Centre, Forest Dr Service Rd, Pinelands...  \n",
       "1   Cape Town City Centre Cnr Strand Street &, 24A...  \n",
       "2       199 Voortrekker Rd, Maitland, Cape Town, 7405  \n",
       "3   Cnr Koeberg &, Bosmansdam Rd, Milnerton, Cape ...  \n",
       "4    Kloof St, Gardens, Cape Town, 800,  021 422 1371  \n",
       "5   51 Main Rd, Rondebosch, Cape Town, 7700,  0860...  \n",
       "6   Canal Walk Shopping Centre, Century Blvd, Cent...  \n",
       "7    Vangate Mall Cnr M7 &, Heideveld Rd, Athlone,...  \n",
       "8       171&nbsp, Main Rd, Claremont, Cape Town, 7708  \n",
       "9    Cnr Main Road &, The Glen, Sea Point, Cape To...  \n",
       "10  Cape Town City Centre Cnr Parliament Street &,...  "
      ]
     },
     "execution_count": 2,
     "metadata": {},
     "output_type": "execute_result"
    }
   ],
   "source": [
    "df_locations = pd.read_excel('/home/sibaliso/Bantubyte/folium/mcdonalds locations.xlsx', sheet_name='Sheet1')\n",
    "df_locations.head(12)"
   ]
  },
  {
   "cell_type": "code",
   "execution_count": 3,
   "id": "d4d65590-5912-4e5e-9fa4-8da78a6a7393",
   "metadata": {},
   "outputs": [
    {
     "data": {
      "text/plain": [
       "Index(['Store', 'Location'], dtype='object')"
      ]
     },
     "execution_count": 3,
     "metadata": {},
     "output_type": "execute_result"
    }
   ],
   "source": [
    "df_locations.columns"
   ]
  },
  {
   "cell_type": "code",
   "execution_count": 4,
   "id": "bcfee90e-7c94-4e24-b4c5-d3bfe5ce3c15",
   "metadata": {},
   "outputs": [
    {
     "data": {
      "text/plain": [
       "(11, 2)"
      ]
     },
     "execution_count": 4,
     "metadata": {},
     "output_type": "execute_result"
    }
   ],
   "source": [
    "df_locations.shape"
   ]
  },
  {
   "cell_type": "code",
   "execution_count": 5,
   "id": "2c86b4d5-eb68-4065-b1d9-4e4acdc42124",
   "metadata": {},
   "outputs": [],
   "source": [
    "#df_locations.describe()"
   ]
  },
  {
   "cell_type": "code",
   "execution_count": 6,
   "id": "7e8a4641-80d8-4092-b1d1-0fe214b559a0",
   "metadata": {
    "tags": []
   },
   "outputs": [
    {
     "data": {
      "text/html": [
       "<div style=\"width:100%;\"><div style=\"position:relative;width:100%;height:0;padding-bottom:60%;\"><span style=\"color:#565656\">Make this Notebook Trusted to load map: File -> Trust Notebook</span><iframe srcdoc=\"&lt;!DOCTYPE html&gt;\n",
       "&lt;html&gt;\n",
       "&lt;head&gt;\n",
       "    \n",
       "    &lt;meta http-equiv=&quot;content-type&quot; content=&quot;text/html; charset=UTF-8&quot; /&gt;\n",
       "    \n",
       "        &lt;script&gt;\n",
       "            L_NO_TOUCH = false;\n",
       "            L_DISABLE_3D = false;\n",
       "        &lt;/script&gt;\n",
       "    \n",
       "    &lt;style&gt;html, body {width: 100%;height: 100%;margin: 0;padding: 0;}&lt;/style&gt;\n",
       "    &lt;style&gt;#map {position:absolute;top:0;bottom:0;right:0;left:0;}&lt;/style&gt;\n",
       "    &lt;script src=&quot;https://cdn.jsdelivr.net/npm/leaflet@1.9.3/dist/leaflet.js&quot;&gt;&lt;/script&gt;\n",
       "    &lt;script src=&quot;https://code.jquery.com/jquery-1.12.4.min.js&quot;&gt;&lt;/script&gt;\n",
       "    &lt;script src=&quot;https://cdn.jsdelivr.net/npm/bootstrap@5.2.2/dist/js/bootstrap.bundle.min.js&quot;&gt;&lt;/script&gt;\n",
       "    &lt;script src=&quot;https://cdnjs.cloudflare.com/ajax/libs/Leaflet.awesome-markers/2.0.2/leaflet.awesome-markers.js&quot;&gt;&lt;/script&gt;\n",
       "    &lt;link rel=&quot;stylesheet&quot; href=&quot;https://cdn.jsdelivr.net/npm/leaflet@1.9.3/dist/leaflet.css&quot;/&gt;\n",
       "    &lt;link rel=&quot;stylesheet&quot; href=&quot;https://cdn.jsdelivr.net/npm/bootstrap@5.2.2/dist/css/bootstrap.min.css&quot;/&gt;\n",
       "    &lt;link rel=&quot;stylesheet&quot; href=&quot;https://netdna.bootstrapcdn.com/bootstrap/3.0.0/css/bootstrap.min.css&quot;/&gt;\n",
       "    &lt;link rel=&quot;stylesheet&quot; href=&quot;https://cdn.jsdelivr.net/npm/@fortawesome/fontawesome-free@6.2.0/css/all.min.css&quot;/&gt;\n",
       "    &lt;link rel=&quot;stylesheet&quot; href=&quot;https://cdnjs.cloudflare.com/ajax/libs/Leaflet.awesome-markers/2.0.2/leaflet.awesome-markers.css&quot;/&gt;\n",
       "    &lt;link rel=&quot;stylesheet&quot; href=&quot;https://cdn.jsdelivr.net/gh/python-visualization/folium/folium/templates/leaflet.awesome.rotate.min.css&quot;/&gt;\n",
       "    \n",
       "            &lt;meta name=&quot;viewport&quot; content=&quot;width=device-width,\n",
       "                initial-scale=1.0, maximum-scale=1.0, user-scalable=no&quot; /&gt;\n",
       "            &lt;style&gt;\n",
       "                #map_147e6547bf102ffc00f19ccb3e168a75 {\n",
       "                    position: relative;\n",
       "                    width: 100.0%;\n",
       "                    height: 100.0%;\n",
       "                    left: 0.0%;\n",
       "                    top: 0.0%;\n",
       "                }\n",
       "                .leaflet-container { font-size: 1rem; }\n",
       "            &lt;/style&gt;\n",
       "        \n",
       "&lt;/head&gt;\n",
       "&lt;body&gt;\n",
       "    \n",
       "    \n",
       "            &lt;div class=&quot;folium-map&quot; id=&quot;map_147e6547bf102ffc00f19ccb3e168a75&quot; &gt;&lt;/div&gt;\n",
       "        \n",
       "&lt;/body&gt;\n",
       "&lt;script&gt;\n",
       "    \n",
       "    \n",
       "            var map_147e6547bf102ffc00f19ccb3e168a75 = L.map(\n",
       "                &quot;map_147e6547bf102ffc00f19ccb3e168a75&quot;,\n",
       "                {\n",
       "                    center: [-33.9152209, 18.3758852],\n",
       "                    crs: L.CRS.EPSG3857,\n",
       "                    zoom: 10,\n",
       "                    zoomControl: true,\n",
       "                    preferCanvas: false,\n",
       "                }\n",
       "            );\n",
       "\n",
       "            \n",
       "\n",
       "        \n",
       "    \n",
       "            var tile_layer_6a15a5bc7db9aa6a913e58ce00220547 = L.tileLayer(\n",
       "                &quot;https://stamen-tiles-{s}.a.ssl.fastly.net/terrain/{z}/{x}/{y}.jpg&quot;,\n",
       "                {&quot;attribution&quot;: &quot;Map tiles by \\u003ca target=\\&quot;_blank\\&quot; href=\\&quot;http://stamen.com\\&quot;\\u003eStamen Design\\u003c/a\\u003e, under \\u003ca target=\\&quot;_blank\\&quot; href=\\&quot;http://creativecommons.org/licenses/by/3.0\\&quot;\\u003eCC BY 3.0\\u003c/a\\u003e. Data by \\u0026copy; \\u003ca target=\\&quot;_blank\\&quot; href=\\&quot;http://openstreetmap.org\\&quot;\\u003eOpenStreetMap\\u003c/a\\u003e, under \\u003ca target=\\&quot;_blank\\&quot; href=\\&quot;http://creativecommons.org/licenses/by-sa/3.0\\&quot;\\u003eCC BY SA\\u003c/a\\u003e.&quot;, &quot;detectRetina&quot;: false, &quot;maxNativeZoom&quot;: 18, &quot;maxZoom&quot;: 18, &quot;minZoom&quot;: 0, &quot;noWrap&quot;: false, &quot;opacity&quot;: 1, &quot;subdomains&quot;: &quot;abc&quot;, &quot;tms&quot;: false}\n",
       "            ).addTo(map_147e6547bf102ffc00f19ccb3e168a75);\n",
       "        \n",
       "    \n",
       "            var tile_layer_f44122d179ba92f635e869509ca78c0f = L.tileLayer(\n",
       "                &quot;https://{s}.tile.openstreetmap.org/{z}/{x}/{y}.png&quot;,\n",
       "                {&quot;attribution&quot;: &quot;Data by \\u0026copy; \\u003ca target=\\&quot;_blank\\&quot; href=\\&quot;http://openstreetmap.org\\&quot;\\u003eOpenStreetMap\\u003c/a\\u003e, under \\u003ca target=\\&quot;_blank\\&quot; href=\\&quot;http://www.openstreetmap.org/copyright\\&quot;\\u003eODbL\\u003c/a\\u003e.&quot;, &quot;detectRetina&quot;: false, &quot;maxNativeZoom&quot;: 18, &quot;maxZoom&quot;: 18, &quot;minZoom&quot;: 0, &quot;noWrap&quot;: false, &quot;opacity&quot;: 1, &quot;subdomains&quot;: &quot;abc&quot;, &quot;tms&quot;: false}\n",
       "            ).addTo(map_147e6547bf102ffc00f19ccb3e168a75);\n",
       "        \n",
       "    \n",
       "            var layer_control_06d0c78cb4a0150c40d340de05a5919e = {\n",
       "                base_layers : {\n",
       "                    &quot;stamenterrain&quot; : tile_layer_6a15a5bc7db9aa6a913e58ce00220547,\n",
       "                    &quot;openstreetmap&quot; : tile_layer_f44122d179ba92f635e869509ca78c0f,\n",
       "                },\n",
       "                overlays :  {\n",
       "                },\n",
       "            };\n",
       "            L.control.layers(\n",
       "                layer_control_06d0c78cb4a0150c40d340de05a5919e.base_layers,\n",
       "                layer_control_06d0c78cb4a0150c40d340de05a5919e.overlays,\n",
       "                {&quot;autoZIndex&quot;: true, &quot;collapsed&quot;: true, &quot;position&quot;: &quot;topright&quot;}\n",
       "            ).addTo(map_147e6547bf102ffc00f19ccb3e168a75);\n",
       "            tile_layer_f44122d179ba92f635e869509ca78c0f.remove();\n",
       "        \n",
       "&lt;/script&gt;\n",
       "&lt;/html&gt;\" style=\"position:absolute;width:100%;height:100%;left:0;top:0;border:none !important;\" allowfullscreen webkitallowfullscreen mozallowfullscreen></iframe></div></div>"
      ],
      "text/plain": [
       "<folium.folium.Map at 0x7f5ecb0f8f10>"
      ]
     },
     "execution_count": 6,
     "metadata": {},
     "output_type": "execute_result"
    }
   ],
   "source": [
    "map_dark = folium.Map(location=[-33.9152209,18.3758852], tiles='stamenterrain', attr='stamenterrain', zoom_start=10)\n",
    "folium.TileLayer('OpenStreetMap', attr='OpenStreetMap').add_to(map_dark)\n",
    "folium.LayerControl().add_to(map_dark)\n",
    "map_dark"
   ]
  },
  {
   "cell_type": "code",
   "execution_count": 7,
   "id": "ffa6f9c2-80f8-459f-a19b-bf35cf051a59",
   "metadata": {},
   "outputs": [
    {
     "data": {
      "text/plain": [
       "[\"McDonald's Pinelands Drive-Thru\",\n",
       " \"McDonald's Strand Street\",\n",
       " \"McDonald's Maitland Drive-Thru\",\n",
       " \"McDonald's Milnerton Drive-Thru\",\n",
       " \"McDonald's Long Street\",\n",
       " \"McDonald's Rondebosch\",\n",
       " \"McDonald's Canal Walk\",\n",
       " \"McDonald's Vangate Drive-Thru\",\n",
       " \"McDonald's Claremont\",\n",
       " \"McDonald's Seapoint Drive-Thru\",\n",
       " 'McDonald’s Spin Street']"
      ]
     },
     "execution_count": 7,
     "metadata": {},
     "output_type": "execute_result"
    }
   ],
   "source": [
    "df_locations_new = df_locations['Store']\n",
    "df_locations_new\n",
    "\n",
    "location_list = df_locations_new.values.tolist()\n",
    "location_list_size = len(location_list)\n",
    "location_list"
   ]
  },
  {
   "cell_type": "code",
   "execution_count": 8,
   "id": "4d6b55fd-436a-452b-a0d2-16b78c3a9eff",
   "metadata": {},
   "outputs": [
    {
     "name": "stdout",
     "output_type": "stream",
     "text": [
      "['Howard Centre, Forest Dr Service Rd, Pinelands, Cape Town, 7450', 'Cape Town City Centre Cnr Strand Street &, 24A Long St', '199 Voortrekker Rd, Maitland, Cape Town, 7405', 'Cnr Koeberg &, Bosmansdam Rd, Milnerton, Cape Town, 7441', ' Kloof St, Gardens, Cape Town, 800,  021 422 1371', '51 Main Rd, Rondebosch, Cape Town, 7700,  0860 000 040', 'Canal Walk Shopping Centre, Century Blvd, Century City, Cape Town, 7441', ' Vangate Mall Cnr M7 &, Heideveld Rd, Athlone, Cape Town, 7769', '171&nbsp, Main Rd, Claremont, Cape Town, 7708', ' Cnr Main Road &, The Glen, Sea Point, Cape Town, 8060', 'Cape Town City Centre Cnr Parliament Street &, Spin St · 021 422 1185']\n"
     ]
    }
   ],
   "source": [
    "#create object of ArcGIS\n",
    "nom=ArcGIS()\n",
    "geocodes = []\n",
    "names = []\n",
    "for i in df_locations['Location']:\n",
    "    names.append(i)\n",
    "print(names)\n"
   ]
  },
  {
   "cell_type": "code",
   "execution_count": 9,
   "id": "fb288019-31e2-4850-9520-b3ebf38fd673",
   "metadata": {},
   "outputs": [],
   "source": [
    "#nom=ArcGIS()\n",
    "#geocodes = []\n",
    "#names = []\n",
    "#codes = []\n",
    "#for i in df_locations['Store']:\n",
    " #   names.append(i)\n",
    "#print(names)\n",
    "#for i in names:\n",
    " #   address = geocoder.geocode(i)\n",
    "  #  geocodes.append(address)\n",
    "#print(geocodes)\n",
    "\n",
    "#for i in geocodes:\n",
    " #   lat = i.latitude\n",
    "  #  longt = i.longitude\n",
    "   # codes.append([lat, longt])\n",
    "#print(codes)"
   ]
  },
  {
   "cell_type": "code",
   "execution_count": 10,
   "id": "bc03491b-56e5-4986-a531-5f480a743f82",
   "metadata": {},
   "outputs": [
    {
     "name": "stdout",
     "output_type": "stream",
     "text": [
      "[Location(Forest Dr, Pinelands, Cape Town, Western Cape, 7405, (-33.935824775929795, 18.506400866395822, 0.0)), Location(Strand St & Long St, Cape Town, Western Cape, 8001, (-33.92061000872432, 18.421170040229867, 0.0)), Location(199 Voortrekker Rd, Maitland, Cape Town, Western Cape, 7405, (-33.92292001932995, 18.48598997969458, 0.0)), Location(Koeberg Rd & Bosmansdam Rd, Milnerton, Cape Town, Western Cape, 7441, (-33.877859997506185, 18.499539996729936, 0.0)), Location(Kloof St, Gardens, Cape Town, Western Cape, 8001, (-33.931931751043535, 18.408858371978095, 0.0)), Location(51 Main Rd, Rondebosch, Cape Town, Western Cape, 7700, (-33.960440016333216, 18.470650007236117, 0.0)), Location(Europa Art Shoes-Canal Walk Shopping Centre, (-33.89274999999998, 18.514940000000024, 0.0)), Location(M7 & Heideveld Rd, Vanguard, Athlone, Cape Town, Western Cape, 7764, (-33.96005998084324, 18.540490036150658, 0.0)), Location(171  Main Rd, Claremont, Cape Town, Western Cape, 7708, (-33.98151864887849, 18.46536170916173, 0.0)), Location(Main Rd & The Glen St, Sea Point, Cape Town, Western Cape, 8005, (-33.91577000446421, 18.38971996604917, 0.0)), Location(Parliament St & Spin St, Cape Town, Western Cape, 8001, (-33.925179989973635, 18.42104003691162, 0.0))]\n"
     ]
    }
   ],
   "source": [
    "\n",
    "for i in names:\n",
    "    address = nom.geocode(i)\n",
    "    geocodes.append(address)\n",
    "print(geocodes)"
   ]
  },
  {
   "cell_type": "code",
   "execution_count": 11,
   "id": "58bbc35a-7f0e-4531-ad90-9cd7a52a4032",
   "metadata": {},
   "outputs": [
    {
     "name": "stdout",
     "output_type": "stream",
     "text": [
      "[[-33.935824775929795, 18.506400866395822], [-33.92061000872432, 18.421170040229867], [-33.92292001932995, 18.48598997969458], [-33.877859997506185, 18.499539996729936], [-33.931931751043535, 18.408858371978095], [-33.960440016333216, 18.470650007236117], [-33.89274999999998, 18.514940000000024], [-33.96005998084324, 18.540490036150658], [-33.98151864887849, 18.46536170916173], [-33.91577000446421, 18.38971996604917], [-33.925179989973635, 18.42104003691162]]\n"
     ]
    }
   ],
   "source": [
    "codes = []\n",
    "for i in geocodes:\n",
    "    lat = i.latitude\n",
    "    longt = i.longitude\n",
    "    codes.append([lat,longt])\n",
    "print(codes)"
   ]
  },
  {
   "cell_type": "code",
   "execution_count": 13,
   "id": "f6ba8037-27dd-48cc-8abd-c8ae91bae1d3",
   "metadata": {},
   "outputs": [
    {
     "ename": "TypeError",
     "evalue": "to_csv() got an unexpected keyword argument 'index_col'",
     "output_type": "error",
     "traceback": [
      "\u001b[0;31m---------------------------------------------------------------------------\u001b[0m",
      "\u001b[0;31mTypeError\u001b[0m                                 Traceback (most recent call last)",
      "Input \u001b[0;32mIn [13]\u001b[0m, in \u001b[0;36m<cell line: 4>\u001b[0;34m()\u001b[0m\n\u001b[1;32m      2\u001b[0m df_stores \u001b[38;5;241m=\u001b[39m pd\u001b[38;5;241m.\u001b[39mconcat([pd\u001b[38;5;241m.\u001b[39mSeries(names, index\u001b[38;5;241m=\u001b[39mdf_stores\u001b[38;5;241m.\u001b[39mindex, name\u001b[38;5;241m=\u001b[39m\u001b[38;5;124m'\u001b[39m\u001b[38;5;124mStore\u001b[39m\u001b[38;5;124m'\u001b[39m), df_stores], axis\u001b[38;5;241m=\u001b[39m\u001b[38;5;241m1\u001b[39m)\n\u001b[1;32m      3\u001b[0m df_stores\u001b[38;5;241m.\u001b[39mhead()\n\u001b[0;32m----> 4\u001b[0m \u001b[43mdf_stores\u001b[49m\u001b[38;5;241;43m.\u001b[39;49m\u001b[43mto_csv\u001b[49m\u001b[43m(\u001b[49m\u001b[38;5;124;43m'\u001b[39;49m\u001b[38;5;124;43mgeo_locations_file.csv\u001b[39;49m\u001b[38;5;124;43m'\u001b[39;49m\u001b[43m,\u001b[49m\u001b[43mindex_col\u001b[49m\u001b[38;5;241;43m=\u001b[39;49m\u001b[38;5;124;43m'\u001b[39;49m\u001b[38;5;124;43mStore\u001b[39;49m\u001b[38;5;124;43m'\u001b[39;49m\u001b[43m)\u001b[49m\n",
      "File \u001b[0;32m~/anaconda3/lib/python3.9/site-packages/pandas/util/_decorators.py:211\u001b[0m, in \u001b[0;36mdeprecate_kwarg.<locals>._deprecate_kwarg.<locals>.wrapper\u001b[0;34m(*args, **kwargs)\u001b[0m\n\u001b[1;32m    209\u001b[0m     \u001b[38;5;28;01melse\u001b[39;00m:\n\u001b[1;32m    210\u001b[0m         kwargs[new_arg_name] \u001b[38;5;241m=\u001b[39m new_arg_value\n\u001b[0;32m--> 211\u001b[0m \u001b[38;5;28;01mreturn\u001b[39;00m \u001b[43mfunc\u001b[49m\u001b[43m(\u001b[49m\u001b[38;5;241;43m*\u001b[39;49m\u001b[43margs\u001b[49m\u001b[43m,\u001b[49m\u001b[43m \u001b[49m\u001b[38;5;241;43m*\u001b[39;49m\u001b[38;5;241;43m*\u001b[39;49m\u001b[43mkwargs\u001b[49m\u001b[43m)\u001b[49m\n",
      "\u001b[0;31mTypeError\u001b[0m: to_csv() got an unexpected keyword argument 'index_col'"
     ]
    }
   ],
   "source": [
    "\n",
    "df_stores= pd.DataFrame(codes, columns =['Lattitude','longitude'])\n",
    "df_stores = pd.concat([pd.Series(names, index=df_stores.index, name='Store'), df_stores], axis=1)\n",
    "df_stores.head()\n",
    "df_stores.to_csv('geo_locations_file.csv')"
   ]
  },
  {
   "cell_type": "code",
   "execution_count": null,
   "id": "66e74046-7bc8-40b2-874f-f66caf5d8365",
   "metadata": {},
   "outputs": [],
   "source": [
    "#for i in codes:\n",
    " #   folium.Marker(location= i).add_to(map_dark)\n",
    "codes_size = len(codes)\n",
    "codes_size"
   ]
  },
  {
   "cell_type": "code",
   "execution_count": null,
   "id": "0ffbb554-3e1b-4710-b151-83545be61bf2",
   "metadata": {},
   "outputs": [],
   "source": [
    "for point in range(0, codes_size):\n",
    "    folium.Marker(codes[point]).add_to(map_dark)\n",
    "    print(point, codes[point])\n",
    "   # folium.Marker(codes[point], popup=df_locations['Store'][point]).add_to(map_dark\n",
    "    folium.Marker(codes[point], popup=df_locations['Store'][point], icon=folium.Icon(color='darkblue', icon_color='white', icon='tint', angle=0, prefix='fa')).add_to(map_dark)\n"
   ]
  },
  {
   "cell_type": "code",
   "execution_count": null,
   "id": "1eed38f3-77d2-4a76-878f-c292caaa39eb",
   "metadata": {},
   "outputs": [],
   "source": [
    "map_dark"
   ]
  },
  {
   "cell_type": "code",
   "execution_count": null,
   "id": "782eac79-4cf9-4f72-aa81-0c5ccfd1c149",
   "metadata": {},
   "outputs": [],
   "source": [
    "map_dark.save('folium_interactive_map.html')"
   ]
  },
  {
   "cell_type": "code",
   "execution_count": null,
   "id": "c71e78ff-a85c-49a3-a69b-5f662a4ce800",
   "metadata": {},
   "outputs": [],
   "source": []
  }
 ],
 "metadata": {
  "kernelspec": {
   "display_name": "Python 3",
   "language": "python",
   "name": "python3"
  },
  "language_info": {
   "codemirror_mode": {
    "name": "ipython",
    "version": 3
   },
   "file_extension": ".py",
   "mimetype": "text/x-python",
   "name": "python",
   "nbconvert_exporter": "python",
   "pygments_lexer": "ipython3",
   "version": "3.9.12"
  }
 },
 "nbformat": 4,
 "nbformat_minor": 5
}
